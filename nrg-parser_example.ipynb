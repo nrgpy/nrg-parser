{
 "cells": [
  {
   "cell_type": "markdown",
   "id": "64f0758f-77a7-4f05-bd75-b05a88af7146",
   "metadata": {},
   "source": [
    "# ![nrg](https://www.gravatar.com/avatar/6282094b092c756acc9f7552b164edfe?s=24) nrg-parser Example Notebook\n",
    "\n",
    "## IEA Task43 Metadata Parser\n",
    "\n",
    "This notebook includes some examples for extracting IEA Task43 metadata from NRG Systems Symphonie-series data logger data files.\n",
    "\n",
    "See README.md, docs, and the Task43 Github page for more information:\n",
    "\n",
    "-  [README.md](https://github.com/nrgpy/nrg-parser/blob/main/README.md)\n",
    "-  [docs](https://github.com/nrgpy/nrg-parser/blob/main/README.md)\n",
    "-  [Task43 Github](https://github.com/IEA-Task-43/digital_wra_data_standard)\n"
   ]
  },
  {
   "cell_type": "code",
   "execution_count": null,
   "id": "d34a0a8e-7d7e-477c-a04d-06756b123efa",
   "metadata": {},
   "outputs": [],
   "source": [
    "import nrg_parser"
   ]
  },
  {
   "cell_type": "markdown",
   "id": "e0964beb-1c7a-4ed2-bc99-cb33f1a7cb4a",
   "metadata": {},
   "source": [
    "### Instantiate the nrg_parser object"
   ]
  },
  {
   "cell_type": "code",
   "execution_count": null,
   "id": "b5a87700-625e-4340-9b03-3a163ceb45e9",
   "metadata": {},
   "outputs": [],
   "source": [
    "metadata = nrg_parser.SymphonieProTxtReader(\n",
    "    txt_filepath=\"tests/files/004310_2022-03-17_00.00_000835_meas.txt\"\n",
    ")"
   ]
  },
  {
   "cell_type": "markdown",
   "id": "43ee9c18-01f6-440c-9394-541f8b3e4e66",
   "metadata": {},
   "source": [
    "### Run the `get_all_metadata` method, or run through the metadata methods individually:\n",
    "\n",
    "- `get_header`\n",
    "- `get_site_info`\n",
    "- `get_iea_logger_main_config`\n",
    "- `get_iea_sensor_config`"
   ]
  },
  {
   "cell_type": "code",
   "execution_count": null,
   "id": "6770ac09-bc2a-4dd5-bb5c-d93712733c93",
   "metadata": {},
   "outputs": [],
   "source": [
    "metadata.get_all_metadata()"
   ]
  },
  {
   "cell_type": "markdown",
   "id": "335d64c1-4790-4dd3-b32f-9d658993b6c1",
   "metadata": {},
   "source": [
    "### IEA metadata objects end in `_dict`\n",
    "\n",
    "- `header_sections_dict`\n",
    "- `logger_main_config_dict`\n",
    "- `sensor_config_dict_list`"
   ]
  },
  {
   "cell_type": "code",
   "execution_count": null,
   "id": "d4c78aad-1b25-4cf8-a5e8-807f058a7ce2",
   "metadata": {},
   "outputs": [],
   "source": [
    "metadata.header_sections_dict"
   ]
  },
  {
   "cell_type": "code",
   "execution_count": null,
   "id": "5c7d832e-9c82-46c4-8220-9978582742db",
   "metadata": {},
   "outputs": [],
   "source": [
    "metadata.logger_main_config_dict"
   ]
  },
  {
   "cell_type": "code",
   "execution_count": null,
   "id": "bfccf24c-4220-48e8-b620-8cd944b313c8",
   "metadata": {},
   "outputs": [],
   "source": [
    "metadata.sensor_config_dict_list"
   ]
  }
 ],
 "metadata": {
  "kernelspec": {
   "display_name": "Python 3 (ipykernel)",
   "language": "python",
   "name": "python3"
  },
  "language_info": {
   "codemirror_mode": {
    "name": "ipython",
    "version": 3
   },
   "file_extension": ".py",
   "mimetype": "text/x-python",
   "name": "python",
   "nbconvert_exporter": "python",
   "pygments_lexer": "ipython3",
   "version": "3.11.0"
  }
 },
 "nbformat": 4,
 "nbformat_minor": 5
}
