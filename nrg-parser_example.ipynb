{
 "cells": [
  {
   "cell_type": "markdown",
   "id": "64f0758f-77a7-4f05-bd75-b05a88af7146",
   "metadata": {},
   "source": [
    "# ![nrg](https://www.gravatar.com/avatar/6282094b092c756acc9f7552b164edfe?s=24) nrg-parser Example Notebook\n",
    "\n",
    "## IEA Task43 Metadata Parser\n",
    "\n",
    "This notebook includes some examples for extracting IEA Task43 metadata from NRG Systems Symphonie-series data logger data files.\n",
    "\n",
    "See README.md, docs, ando the Task43 Github page for more information:\n",
    "\n",
    "-  [README.md](https://github.com/nrgpy/nrg-parser/blob/main/README.md)\n",
    "-  [docs](https://github.com/nrgpy/nrg-parser/blob/main/README.md)\n",
    "-  [Task43 Github](https://github.com/IEA-Task-43/digital_wra_data_standard)\n"
   ]
  },
  {
   "cell_type": "code",
   "execution_count": 3,
   "id": "607fd066-d9c8-4a60-9a48-0c655c8e38da",
   "metadata": {},
   "outputs": [],
   "source": [
    "import parser"
   ]
  },
  {
   "cell_type": "code",
   "execution_count": 4,
   "id": "994fb2cc-c0ab-49cb-bd5f-47d28172853a",
   "metadata": {},
   "outputs": [
    {
     "data": {
      "text/plain": [
       "<module 'parser' from '/home/blackcap/gits/nrg-parser/venv/lib/python3.10/site-packages/parser/__init__.py'>"
      ]
     },
     "execution_count": 4,
     "metadata": {},
     "output_type": "execute_result"
    }
   ],
   "source": [
    "parser."
   ]
  },
  {
   "cell_type": "code",
   "execution_count": null,
   "id": "d34a0a8e-7d7e-477c-a04d-06756b123efa",
   "metadata": {},
   "outputs": [],
   "source": []
  }
 ],
 "metadata": {
  "kernelspec": {
   "display_name": "Python 3 (ipykernel)",
   "language": "python",
   "name": "python3"
  },
  "language_info": {
   "codemirror_mode": {
    "name": "ipython",
    "version": 3
   },
   "file_extension": ".py",
   "mimetype": "text/x-python",
   "name": "python",
   "nbconvert_exporter": "python",
   "pygments_lexer": "ipython3",
   "version": "3.10.6"
  }
 },
 "nbformat": 4,
 "nbformat_minor": 5
}
