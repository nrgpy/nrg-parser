{
 "cells": [
  {
   "cell_type": "markdown",
   "id": "64f0758f-77a7-4f05-bd75-b05a88af7146",
   "metadata": {},
   "source": [
    "# ![nrg](https://www.gravatar.com/avatar/6282094b092c756acc9f7552b164edfe?s=24) nrg-parser Example Notebook\n",
    "\n",
    "## IEA Task43 Metadata Parser\n",
    "\n",
    "This notebook includes some examples for extracting IEA Task43 metadata from NRG Systems Symphonie-series data logger data files.\n",
    "\n",
    "See README.md, docs, and the Task43 Github page for more information:\n",
    "\n",
    "-  [README.md](https://github.com/nrgpy/nrg-parser/blob/main/README.md)\n",
    "-  [docs](https://github.com/nrgpy/nrg-parser/blob/main/README.md)\n",
    "-  [Task43 Github](https://github.com/IEA-Task-43/digital_wra_data_standard)\n"
   ]
  },
  {
   "cell_type": "code",
   "execution_count": 1,
   "id": "d34a0a8e-7d7e-477c-a04d-06756b123efa",
   "metadata": {},
   "outputs": [],
   "source": [
    "import nrg_parser"
   ]
  },
  {
   "cell_type": "markdown",
   "id": "e0964beb-1c7a-4ed2-bc99-cb33f1a7cb4a",
   "metadata": {},
   "source": [
    "### Instantiate the nrg_parser object"
   ]
  },
  {
   "cell_type": "code",
   "execution_count": 2,
   "id": "b5a87700-625e-4340-9b03-3a163ceb45e9",
   "metadata": {},
   "outputs": [],
   "source": [
    "metadata = nrg_parser.SymphonieProTxtReader(\n",
    "    txt_filepath=\"tests/files/004310_2022-03-17_00.00_000835_meas.txt\"\n",
    ")"
   ]
  },
  {
   "cell_type": "markdown",
   "id": "43ee9c18-01f6-440c-9394-541f8b3e4e66",
   "metadata": {},
   "source": [
    "### Run the `get_all_metadata` method, or run through the metadata methods individually:\n",
    "\n",
    "- `get_header`\n",
    "- `get_site_info`\n",
    "- `get_iea_logger_main_config`\n",
    "- `get_iea_sensor_config`"
   ]
  },
  {
   "cell_type": "code",
   "execution_count": 3,
   "id": "6770ac09-bc2a-4dd5-bb5c-d93712733c93",
   "metadata": {},
   "outputs": [],
   "source": [
    "metadata.get_all_metadata()"
   ]
  },
  {
   "cell_type": "markdown",
   "id": "335d64c1-4790-4dd3-b32f-9d658993b6c1",
   "metadata": {},
   "source": [
    "### IEA metadata objects end in `_dict`\n",
    "\n",
    "- `header_sections_dict`\n",
    "- `logger_main_config_dict`\n",
    "- `sensor_config_dict_list`"
   ]
  },
  {
   "cell_type": "code",
   "execution_count": 4,
   "id": "d4c78aad-1b25-4cf8-a5e8-807f058a7ce2",
   "metadata": {},
   "outputs": [
    {
     "data": {
      "text/plain": [
       "{'NRG Export Service': {'Software Version': '1.0.0.1',\n",
       "  'Export Assembly Version': '1.0.0.117',\n",
       "  'Export version': '3',\n",
       "  'Generated': '2022-03-18 14:37:02'},\n",
       " 'Export Parameters': {'Site Number': '004310',\n",
       "  'Data Type': 'Measurements',\n",
       "  'Start Date': None,\n",
       "  'End Date': None,\n",
       "  'Filters Applied': 'False',\n",
       "  'Configuration': None},\n",
       " 'Site Properties': {'Site Description': 'Tech Services test',\n",
       "  'Project': 'Cloud dev',\n",
       "  'Tower': None,\n",
       "  'Location': 'Hinesburg, VT_',\n",
       "  'Coordinate System': 'WGS84',\n",
       "  'Latitude': '44.5000000',\n",
       "  'Longitude': '-73.2000000',\n",
       "  'Elevation': '123',\n",
       "  'Time Zone': 'UTC-5:00',\n",
       "  'Site Units': '5'},\n",
       " 'Logger History': {'Date': '2022-03-17 00:00:00',\n",
       "  'Model': 'SymphoniePRO Logger (8206)',\n",
       "  'Serial Number': '820604310',\n",
       "  'Firmware': '3.4.1'},\n",
       " 'iPack History': {'Date': '2022-03-17 00:00:00',\n",
       "  'Model': 'iPackACCESS (7984)',\n",
       "  'Serial Number': '716900805',\n",
       "  'Firmware': '2.2.0'}}"
      ]
     },
     "execution_count": 4,
     "metadata": {},
     "output_type": "execute_result"
    }
   ],
   "source": [
    "metadata.header_sections_dict"
   ]
  },
  {
   "cell_type": "code",
   "execution_count": 5,
   "id": "5c7d832e-9c82-46c4-8220-9978582742db",
   "metadata": {},
   "outputs": [
    {
     "data": {
      "text/plain": [
       "{'logger_serial_number': '820604310',\n",
       " 'logger_model_name': 'SymphoniePRO Logger (8206)',\n",
       " 'logger_id': '004310',\n",
       " 'logger_name': 'Cloud dev',\n",
       " 'date_from': Timestamp('2022-03-17 00:00:00'),\n",
       " 'date_to': Timestamp('2022-03-17 06:09:00'),\n",
       " 'latitude_ddeg': 44.5,\n",
       " 'longitude_ddeg': -73.2,\n",
       " 'measurement_station_type_id': 'mast',\n",
       " 'offset_from_utc_hrs': -5.0,\n",
       " 'firmware_version': '3.4.1'}"
      ]
     },
     "execution_count": 5,
     "metadata": {},
     "output_type": "execute_result"
    }
   ],
   "source": [
    "metadata.logger_main_config_dict"
   ]
  },
  {
   "cell_type": "code",
   "execution_count": 6,
   "id": "bfccf24c-4220-48e8-b620-8cd944b313c8",
   "metadata": {},
   "outputs": [
    {
     "data": {
      "text/plain": [
       "[{'connection_channel': 2,\n",
       "  'sensor_serial_number': '2020-02-09',\n",
       "  'logger_height': 85.0,\n",
       "  'logger_slope': 0.0935,\n",
       "  'logger_offset': 0.139,\n",
       "  'boom_orientation_deg': 189.0,\n",
       "  'measurement_unit_id': 'm/s',\n",
       "  'measurement_type': 'wind_speed',\n",
       "  'sensor_type': 'anemometer',\n",
       "  'date_from': Timestamp('2022-03-17 00:00:00'),\n",
       "  'date_to': Timestamp('2022-03-17 06:09:00'),\n",
       "  'column_name_list': 'Ch2_Anem_85.00m_S_Avg_m/s#avg;Ch2_Anem_85.00m_S_SD_m/s#sd;Ch2_Anem_85.00m_S_Min_m/s#min;Ch2_Anem_85.00m_S_Max_m/s#max;Ch2_Anem_85.00m_S_Gust_m/s#gust'},\n",
       " {'connection_channel': 3,\n",
       "  'sensor_serial_number': 'TEST02_02-10',\n",
       "  'logger_height': 10.0,\n",
       "  'logger_slope': 0.775,\n",
       "  'logger_offset': 0.35,\n",
       "  'boom_orientation_deg': None,\n",
       "  'measurement_unit_id': 'm/s',\n",
       "  'measurement_type': 'wind_speed',\n",
       "  'sensor_type': 'anemometer',\n",
       "  'date_from': Timestamp('2022-03-17 00:00:00'),\n",
       "  'date_to': Timestamp('2022-03-17 06:09:00'),\n",
       "  'column_name_list': 'Ch3_Anem_10.00m__Avg_m/s#avg;Ch3_Anem_10.00m__SD_m/s#sd;Ch3_Anem_10.00m__Min_m/s#min;Ch3_Anem_10.00m__Max_m/s#max;Ch3_Anem_10.00m__Gust_m/s#gust'},\n",
       " {'connection_channel': 4,\n",
       "  'sensor_serial_number': '012345678901234',\n",
       "  'logger_height': None,\n",
       "  'logger_slope': 0.0935,\n",
       "  'logger_offset': 0.139,\n",
       "  'boom_orientation_deg': None,\n",
       "  'measurement_unit_id': 'm/s',\n",
       "  'measurement_type': 'wind_speed',\n",
       "  'sensor_type': 'anemometer',\n",
       "  'date_from': Timestamp('2022-03-17 00:00:00'),\n",
       "  'date_to': Timestamp('2022-03-17 06:09:00'),\n",
       "  'column_name_list': 'Ch4_Anem___Avg_m/s#avg;Ch4_Anem___SD_m/s#sd;Ch4_Anem___Min_m/s#min;Ch4_Anem___Max_m/s#max;Ch4_Anem___Gust_m/s#gust'},\n",
       " {'connection_channel': 6,\n",
       "  'sensor_serial_number': None,\n",
       "  'logger_height': None,\n",
       "  'logger_slope': 0.0935,\n",
       "  'logger_offset': 0.139,\n",
       "  'boom_orientation_deg': None,\n",
       "  'measurement_unit_id': 'm/s',\n",
       "  'measurement_type': 'wind_speed',\n",
       "  'sensor_type': 'anemometer',\n",
       "  'date_from': Timestamp('2022-03-17 00:00:00'),\n",
       "  'date_to': Timestamp('2022-03-17 06:09:00'),\n",
       "  'column_name_list': 'Ch6_Anem___Avg_m/s#avg;Ch6_Anem___SD_m/s#sd;Ch6_Anem___Min_m/s#min;Ch6_Anem___Max_m/s#max;Ch6_Anem___Gust_m/s#gust'},\n",
       " {'connection_channel': 13,\n",
       "  'sensor_serial_number': 'TEST02_02-10',\n",
       "  'logger_height': 40.0,\n",
       "  'logger_slope': 44.7436,\n",
       "  'logger_offset': -40.8555,\n",
       "  'boom_orientation_deg': 0.0,\n",
       "  'measurement_unit_id': 'deg_C',\n",
       "  'measurement_type': 'air_temperature',\n",
       "  'sensor_type': 'thermometer',\n",
       "  'date_from': Timestamp('2022-03-17 00:00:00'),\n",
       "  'date_to': Timestamp('2022-03-17 06:09:00'),\n",
       "  'column_name_list': 'Ch13_Analog_40.00m_N_Avg_C#avg;Ch13_Analog_40.00m_N_SD_C#sd;Ch13_Analog_40.00m_N_Min_C#min;Ch13_Analog_40.00m_N_Max_C#max'},\n",
       " {'connection_channel': 14,\n",
       "  'sensor_serial_number': '939600122',\n",
       "  'logger_height': 0.0,\n",
       "  'logger_slope': 243.871,\n",
       "  'logger_offset': 494.427,\n",
       "  'boom_orientation_deg': 0.0,\n",
       "  'measurement_unit_id': '-',\n",
       "  'sensor_type': 'other',\n",
       "  'measurement_type': 'other',\n",
       "  'date_from': Timestamp('2022-03-17 00:00:00'),\n",
       "  'date_to': Timestamp('2022-03-17 06:09:00'),\n",
       "  'column_name_list': 'Ch14_Analog_0.00m_N_Avg_hPa#avg;Ch14_Analog_0.00m_N_SD_hPa#sd;Ch14_Analog_0.00m_N_Min_hPa#min;Ch14_Analog_0.00m_N_Max_hPa#max'},\n",
       " {'connection_channel': 15,\n",
       "  'sensor_serial_number': '2022-02-08',\n",
       "  'logger_height': 10.0,\n",
       "  'logger_slope': 144.0,\n",
       "  'logger_offset': -1.4602,\n",
       "  'boom_orientation_deg': 165.0,\n",
       "  'measurement_unit_id': 'deg',\n",
       "  'vane_dead_band_orientation_deg': 180.0,\n",
       "  'measurement_type': 'wind_direction',\n",
       "  'sensor_type': 'wind_vane',\n",
       "  'date_from': Timestamp('2022-03-17 00:00:00'),\n",
       "  'date_to': Timestamp('2022-03-17 06:09:00'),\n",
       "  'column_name_list': 'Ch15_Vane_10.00m_SSE_Avg_Deg#avg;Ch15_Vane_10.00m_SSE_SD_Deg#sd;Ch15_Vane_10.00m_SSE_GustDir_Deg#gust'},\n",
       " {'connection_channel': 20,\n",
       "  'sensor_serial_number': 'PY76389',\n",
       "  'logger_height': 0.0,\n",
       "  'logger_slope': 11.11,\n",
       "  'logger_offset': 0.0,\n",
       "  'boom_orientation_deg': 0.0,\n",
       "  'measurement_unit_id': 'W/m^2',\n",
       "  'measurement_type': 'global_horizontal_irradiance',\n",
       "  'sensor_type': 'pyranometer',\n",
       "  'date_from': Timestamp('2022-03-17 00:00:00'),\n",
       "  'date_to': Timestamp('2022-03-17 06:09:00'),\n",
       "  'column_name_list': 'Ch20_Analog_0.00m_N_Avg_W/sqm#avg;Ch20_Analog_0.00m_N_SD_W/sqm#sd;Ch20_Analog_0.00m_N_Min_W/sqm#min;Ch20_Analog_0.00m_N_Max_W/sqm#max'},\n",
       " {'connection_channel': 32,\n",
       "  'sensor_serial_number': '1234',\n",
       "  'logger_height': 2.0,\n",
       "  'logger_slope': 1.0,\n",
       "  'logger_offset': 0.0,\n",
       "  'boom_orientation_deg': 180.0,\n",
       "  'measurement_unit_id': 'W/m^2',\n",
       "  'measurement_type': 'global_horizontal_irradiance',\n",
       "  'sensor_type': 'pyranometer',\n",
       "  'date_from': Timestamp('2022-03-17 00:00:00'),\n",
       "  'date_to': Timestamp('2022-03-17 06:09:00'),\n",
       "  'column_name_list': 'Ch32_ModbusRTU_2.00m_S_Avg_W/m^2#avg;Ch32_ModbusRTU_2.00m_S_SD_W/m^2#sd;Ch32_ModbusRTU_2.00m_S_Min_W/m^2#min;Ch32_ModbusRTU_2.00m_S_Max_W/m^2#max'},\n",
       " {'connection_channel': 42,\n",
       "  'sensor_serial_number': '1234',\n",
       "  'logger_height': 1.0,\n",
       "  'logger_slope': 1.0,\n",
       "  'logger_offset': 0.0,\n",
       "  'boom_orientation_deg': 180.0,\n",
       "  'measurement_unit_id': None,\n",
       "  'sensor_type': 'other',\n",
       "  'measurement_type': 'other',\n",
       "  'date_from': Timestamp('2022-03-17 00:00:00'),\n",
       "  'date_to': Timestamp('2022-03-17 06:09:00'),\n",
       "  'column_name_list': 'Ch42_ModbusRTU_1.00m_S_Avg_#avg;Ch42_ModbusRTU_1.00m_S_SD_#sd;Ch42_ModbusRTU_1.00m_S_Min_#min;Ch42_ModbusRTU_1.00m_S_Max_#max'},\n",
       " {'measurement_unit_id': 'W/m^2',\n",
       "  'measurement_type': 'global_horizontal_irradiance',\n",
       "  'sensor_type': 'pyranometer',\n",
       "  'date_from': Timestamp('2022-03-17 00:00:00'),\n",
       "  'date_to': Timestamp('2022-03-17 06:09:00'),\n",
       "  'column_name_list': 'Ch100_Calculated___Avg_w/m^2#avg;Ch100_Calculated___SD_w/m^2#sd;Ch100_Calculated___Min_w/m^2#min;Ch100_Calculated___Max_w/m^2#max'},\n",
       " {'measurement_unit_id': 'W/m^2',\n",
       "  'measurement_type': 'global_horizontal_irradiance',\n",
       "  'sensor_type': 'pyranometer',\n",
       "  'date_from': Timestamp('2022-03-17 00:00:00'),\n",
       "  'date_to': Timestamp('2022-03-17 06:09:00'),\n",
       "  'column_name_list': 'Ch105_Calculated___Avg_w/m^2#avg;Ch105_Calculated___SD_w/m^2#sd;Ch105_Calculated___Min_w/m^2#min;Ch105_Calculated___Max_w/m^2#max'},\n",
       " {'measurement_unit_id': None,\n",
       "  'sensor_type': 'other',\n",
       "  'measurement_type': 'other',\n",
       "  'date_from': Timestamp('2022-03-17 00:00:00'),\n",
       "  'date_to': Timestamp('2022-03-17 06:09:00'),\n",
       "  'column_name_list': 'Ch106_Calculated___Avg_#avg;Ch106_Calculated___SD_#sd;Ch106_Calculated___Min_#min;Ch106_Calculated___Max_#max'},\n",
       " {'measurement_unit_id': None,\n",
       "  'sensor_type': 'other',\n",
       "  'measurement_type': 'other',\n",
       "  'date_from': Timestamp('2022-03-17 00:00:00'),\n",
       "  'date_to': Timestamp('2022-03-17 06:09:00'),\n",
       "  'column_name_list': 'Ch108_Calculated___Avg_#avg;Ch108_Calculated___SD_#sd;Ch108_Calculated___Min_#min;Ch108_Calculated___Max_#max'},\n",
       " {'measurement_unit_id': None,\n",
       "  'sensor_type': 'other',\n",
       "  'measurement_type': 'other',\n",
       "  'date_from': Timestamp('2022-03-17 00:00:00'),\n",
       "  'date_to': Timestamp('2022-03-17 06:09:00'),\n",
       "  'column_name_list': 'Ch109_Calculated___Avg_#avg;Ch109_Calculated___SD_#sd;Ch109_Calculated___Min_#min;Ch109_Calculated___Max_#max'}]"
      ]
     },
     "execution_count": 6,
     "metadata": {},
     "output_type": "execute_result"
    }
   ],
   "source": [
    "metadata.sensor_config_dict_list"
   ]
  },
  {
   "cell_type": "code",
   "execution_count": null,
   "id": "4b232728-4a07-45e3-9403-211f8e166167",
   "metadata": {},
   "outputs": [],
   "source": []
  },
  {
   "cell_type": "code",
   "execution_count": null,
   "id": "e2daa7aa-dbcc-4d17-bc65-3b55264291e6",
   "metadata": {},
   "outputs": [],
   "source": []
  },
  {
   "cell_type": "code",
   "execution_count": null,
   "id": "48180d00-27b2-4035-96e5-f146966735ad",
   "metadata": {},
   "outputs": [],
   "source": []
  }
 ],
 "metadata": {
  "kernelspec": {
   "display_name": "Python 3 (ipykernel)",
   "language": "python",
   "name": "python3"
  },
  "language_info": {
   "codemirror_mode": {
    "name": "ipython",
    "version": 3
   },
   "file_extension": ".py",
   "mimetype": "text/x-python",
   "name": "python",
   "nbconvert_exporter": "python",
   "pygments_lexer": "ipython3",
   "version": "3.12.0"
  }
 },
 "nbformat": 4,
 "nbformat_minor": 5
}
